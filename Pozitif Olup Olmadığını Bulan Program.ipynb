{
 "cells": [
  {
   "cell_type": "code",
   "execution_count": null,
   "id": "deed183b",
   "metadata": {},
   "outputs": [],
   "source": [
    "# Kullanıcıdan bir sayı al\n",
    "sayi = float(input(\"Bir sayı girin: \"))\n",
    " \n",
    "# Sayının pozitif olup olmadığını kontrol et\n",
    "if sayi > 0:\n",
    "    print(\"Girilen sayı pozitiftir.\")\n",
    "else:\n",
    "    print(\"Girilen sayı pozitif değildir.\")"
   ]
  }
 ],
 "metadata": {
  "kernelspec": {
   "display_name": "Python 3 (ipykernel)",
   "language": "python",
   "name": "python3"
  },
  "language_info": {
   "codemirror_mode": {
    "name": "ipython",
    "version": 3
   },
   "file_extension": ".py",
   "mimetype": "text/x-python",
   "name": "python",
   "nbconvert_exporter": "python",
   "pygments_lexer": "ipython3",
   "version": "3.11.3"
  }
 },
 "nbformat": 4,
 "nbformat_minor": 5
}
